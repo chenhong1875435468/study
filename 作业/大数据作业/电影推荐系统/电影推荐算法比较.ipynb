{
 "cells": [
  {
   "cell_type": "markdown",
   "metadata": {},
   "source": [
    "# 电影推荐算法比较实验\n",
    "\n",
    "本实验实现并比较两种协同过滤电影推荐算法：User-CF和Item-CF"
   ]
  },
  {
   "cell_type": "markdown",
   "metadata": {},
   "source": [
    "## 一、数据加载与预处理"
   ]
  },
  {
   "cell_type": "code",
   "execution_count": null,
   "metadata": {},
   "outputs": [],
   "source": [
    "import pandas as pd\n",
    "import numpy as np\n",
    "from sklearn.metrics.pairwise import cosine_similarity\n",
    "from sklearn.metrics import mean_squared_error\n",
    "import kagglehub\n",
    "\n",
    "# Download latest version\n",
    "path = kagglehub.dataset_download(\"/data\")\n",
    "\n",
    "print(\"Path to dataset files:\", path)\n",
    "\n",
    "# 加载数据\n",
    "train_data = pd.read_csv('data/recommendation-ratings-train.txt', sep='\t')\n",
    "test_data = pd.read_csv('data/recommendation-ratings-test.txt', sep='\t')\n",
    "\n",
    "# 转换为用户-物品评分矩阵\n",
    "user_item_train = train_data.pivot_table(index='userld', columns='movield', values='rating', fill_value=0)\n",
    "user_item_test = test_data.pivot_table(index='userld', columns='movield', values='rating', fill_value=0)\n"
   ]
  },
  {
   "cell_type": "markdown",
   "metadata": {},
    "source": [
     "## 二、数据可视化分析"
    ]
   },
   {
    "cell_type": "code",
    "execution_count": null,
    "metadata": {},
    "outputs": [],
    "source": [
     "import matplotlib.pyplot as plt\n",
     "%matplotlib inline\n",
     "\n",
     "# 评分分布可视化\n",
     "fig, axes = plt.subplots(1, 2, figsize=(12, 5))\n",
     "\n",
     "train_data['rating'].hist(bins=10, ax=axes[0], color='skyblue')\n",
     "axes[0].set_title('训练集评分分布')\n",
     "axes[0].set_xlabel('评分')\n",
     "axes[0].set_ylabel('数量')\n",
     "\n",
     "test_data['rating'].hist(bins=10, ax=axes[1], color='lightgreen')\n",
     "axes[1].set_title('测试集评分分布')\n",
     "axes[1].set_xlabel('评分')\n",
     "axes[1].set_ylabel('数量')\n",
     "plt.tight_layout()\n",
     "plt.show()\n"
    ]
   },
   {
    "cell_type": "markdown",
    "metadata": {},
    "source": [
     "## 二、User-CF算法实现"
    ]
  },
  {
   "cell_type": "code",
   "execution_count": null,
   "metadata": {},
   "outputs": [],
   "source": [
    "def user_cf_predict(user_item, user_id, movie_id, k=50):\n",
    "    # 计算用户相似度矩阵\n",
    "    user_similarity = cosine_similarity(user_item)\n",
    "    np.fill_diagonal(user_similarity, 0)  # 自身相似度设为0\n",
    "    \n",
    "    # 获取相似用户指数\n",
    "    similar_users = np.argsort(-user_similarity[user_item.index.get_loc(user_id)])[:k]\n",
    "    \n",
    "    # 计算预测评分\n",
    "    mean_user_rating = user_item.mean(axis=1)\n",
    "    user_ratings = user_item.iloc[similar_users]\n",
    "    similarity_weights = user_similarity[user_item.index.get_loc(user_id)][similar_users]\n",
    "    dev = (user_ratings - mean_user_rating.iloc[similar_users].values.reshape(-1,1))\n",
    "    pred_rating = mean_user_rating[user_id] + np.dot(similarity_weights, dev[movie_id]) / np.sum(np.abs(similarity_weights))\n",
    "    return pred_rating\n"
   ]
  },
  {
   "cell_type": "markdown",
   "metadata": {},
   "source": [
    "## 三、Item-CF算法实现"
   ]
  },
  {
   "cell_type": "code",
   "execution_count": null,
   "metadata": {},
   "outputs": [],
   "source": [
    "def item_cf_predict(user_item, user_id, movie_id, k=50):\n",
    "    # 转置为物品-用户矩阵\n",
    "    item_user = user_item.T\n",
    "    \n",
    "    # 计算物品相似度矩阵\n",
    "    item_similarity = cosine_similarity(item_user)\n",
    "    np.fill_diagonal(item_similarity, 0)\n",
    "    \n",
    "    # 获取相似物品指数\n",
    "    similar_items = np.argsort(-item_similarity[item_user.index.get_loc(movie_id)])[:k]\n",
    "    \n",
    "    # 计算预测评分\n",
    "    user_ratings = item_user.iloc[similar_items][user_id]\n",
    "    similarity_weights = item_similarity[item_user.index.get_loc(movie_id)][similar_items]\n",
    "    pred_rating = np.dot(similarity_weights, user_ratings) / np.sum(np.abs(similarity_weights))\n",
    "    return pred_rating\n"
   ]
  },
  {
   "cell_type": "markdown",
   "metadata": {},
   "source": [
    "## 四、RMSE评估与结果比较"
   ]
  },
  {
   "cell_type": "code",
   "execution_count": null,
   "metadata": {},
   "outputs": [],
   "source": [
    "# 预测User-CF结果\n",
    "user_cf_preds = test_data.apply(lambda row: user_cf_predict(user_item_train, row['userld'], row['movield']), axis=1)\n",
    "user_cf_rmse = np.sqrt(mean_squared_error(test_data['rating'], user_cf_preds))\n",
    "\n",
    "# 预测Item-CF结果\n",
    "item_cf_preds = test_data.apply(lambda row: item_cf_predict(user_item_train, row['userld'], row['movield']), axis=1)\n",
    "item_cf_rmse = np.sqrt(mean_squared_error(test_data['rating'], item_cf_preds))\n",
    "\n",
    "print(f'User-CF RMSE: {user_cf_rmse:.4f}')\n",
    "print(f'Item-CF RMSE: {item_cf_rmse:.4f}')\n",
    "\n",
    "# 推荐准确性对比可视化\n",
    "plt.figure(figsize=(8, 5))\n",
    "algorithms = ['User-CF', 'Item-CF']\n",
    "rmse_values = [user_cf_rmse, item_cf_rmse]\n",
    "plt.bar(algorithms, rmse_values, color=['#4CAF50', '#2196F3'])\n",
    "plt.title('推荐算法RMSE对比')\n",
    "plt.xlabel('算法')\n",
    "plt.ylabel('RMSE')\n",
    "plt.ylim(0, max(rmse_values)*1.2)\n",
    "for i, v in enumerate(rmse_values):\n",
    "    plt.text(i, v+0.05, f'{v:.4f}', ha='center')\n",
    "plt.show()\n",
    "\n",
    "# Top-N推荐实现（以User-CF为例）\n",
    "def get_top_n_recommendations(user_id, n=10):\n",
    "    user_ratings = user_item_train.loc[user_id]\n",
    "    unrated_movies = user_ratings[user_ratings == 0].index\n",
    "    \n",
    "    # 预测未评分电影的评分\n",
    "    predictions = [user_cf_predict(user_item_train, user_id, movie_id) for movie_id in unrated_movies]\n",
    "    \n",
    "    # 生成推荐列表\n",
    "    recommendations = pd.DataFrame({'movield': unrated_movies, 'pred_rating': predictions})\n",
    "    return recommendations.sort_values('pred_rating', ascending=False).head(n)\n",
    "\n",
    "# 评估Top-N推荐（召回率/精确率）\n",
    "def evaluate_top_n(n=10):\n",
    "    test_users = test_data['userld'].unique()\n",
    "    relevant = 0\n",
    "    retrieved = 0\n",
    "    relevant_retrieved = 0\n",
    "    \n",
    "    for user_id in test_users:\n",
    "        top_n = get_top_n_recommendations(user_id, n)['movield'].tolist()\n",
    "        actual_rated = test_data[(test_data['userld']==user_id) & (test_data['rating']>=4)]['movield'].tolist()\n",
    "        \n",
    "        relevant += len(actual_rated)\n",
    "        retrieved += n\n",
    "        relevant_retrieved += len(set(top_n) & set(actual_rated))\n",
    "    \n",
    "    recall = relevant_retrieved / relevant if relevant > 0 else 0\n",
    "    precision = relevant_retrieved / retrieved if retrieved > 0 else 0\n",
    "    return recall, precision\n",
    "\n",
    "recall, precision = evaluate_top_n()\n",
    "print(f'Top-10推荐召回率: {recall:.4f}')\n",
    "print(f'Top-10推荐精确率: {precision:.4f}')\n"
   ]
  }
 ],
 "metadata": {
  "kernelspec": {
   "display_name": "Python 3 (ipykernel)",
   "language": "python",
   "name": "python3"
  },
  "language_info": {
   "codemirror_mode": {
    "name": "ipython",
    "version": 3
   },
   "file_extension": ".py",
   "mimetype": "text/x-python",
   "name": "python",
   "nbconvert_exporter": "python",
   "pygments_lexer": "ipython3",
   "version": "3.12.4"
  }
 },
 "nbformat": 4,
 "nbformat_minor": 4
}
