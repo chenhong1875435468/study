{
 "cells": [
  {
   "cell_type": "markdown",
   "metadata": {},
   "source": [
    "# 电影推荐算法比较实验\n",
    "\n",
    "本实验实现并比较两种协同过滤电影推荐算法：User-CF和Item-CF"
   ]
  },
  {
   "cell_type": "markdown",
   "metadata": {},
   "source": [
    "## 一、数据加载与预处理"
   ]
  },
  {
   "cell_type": "code",
   "execution_count": null,
   "metadata": {},
   "outputs": [],
   "source": [
    "import pandas as pd\n",
    "import numpy as np\n",
    "from sklearn.metrics.pairwise import cosine_similarity\n",
    "from sklearn.metrics import mean_squared_error\n",
    "import kagglehub\n",
    "\n",
    "# Download latest version\n",
    "path = kagglehub.dataset_download(\"/data\")\n",
    "\n",
    "print(\"Path to dataset files:\", path)\n",
    "\n",
    "# 加载数据\n",
    "train_data = pd.read_csv('data/recommendation-ratings-train.txt', sep='\t')\n",
    "test_data = pd.read_csv('data/recommendation-ratings-test.txt', sep='\t')\n",
    "\n",
    "# 转换为用户-物品评分矩阵\n",
    "user_item_train = train_data.pivot_table(index='userld', columns='movield', values='rating', fill_value=0)\n",
    "user_item_test = test_data.pivot_table(index='userld', columns='movield', values='rating', fill_value=0)\n"
   ]
  },
  {
   "cell_type": "markdown",
   "metadata": {},
   "source": [
    "## 二、User-CF算法实现"
   ]
  },
  {
   "cell_type": "code",
   "execution_count": null,
   "metadata": {},
   "outputs": [],
   "source": [
    "def user_cf_predict(user_item, user_id, movie_id, k=50):\n",
    "    # 计算用户相似度矩阵\n",
    "    user_similarity = cosine_similarity(user_item)\n",
    "    np.fill_diagonal(user_similarity, 0)  # 自身相似度设为0\n",
    "    \n",
    "    # 获取相似用户指数\n",
    "    similar_users = np.argsort(-user_similarity[user_item.index.get_loc(user_id)])[:k]\n",
    "    \n",
    "    # 计算预测评分\n",
    "    mean_user_rating = user_item.mean(axis=1)\n",
    "    user_ratings = user_item.iloc[similar_users]\n",
    "    similarity_weights = user_similarity[user_item.index.get_loc(user_id)][similar_users]\n",
    "    dev = (user_ratings - mean_user_rating.iloc[similar_users].values.reshape(-1,1))\n",
    "    pred_rating = mean_user_rating[user_id] + np.dot(similarity_weights, dev[movie_id]) / np.sum(np.abs(similarity_weights))\n",
    "    return pred_rating\n"
   ]
  },
  {
   "cell_type": "markdown",
   "metadata": {},
   "source": [
    "## 三、Item-CF算法实现"
   ]
  },
  {
   "cell_type": "code",
   "execution_count": null,
   "metadata": {},
   "outputs": [],
   "source": [
    "def item_cf_predict(user_item, user_id, movie_id, k=50):\n",
    "    # 转置为物品-用户矩阵\n",
    "    item_user = user_item.T\n",
    "    \n",
    "    # 计算物品相似度矩阵\n",
    "    item_similarity = cosine_similarity(item_user)\n",
    "    np.fill_diagonal(item_similarity, 0)\n",
    "    \n",
    "    # 获取相似物品指数\n",
    "    similar_items = np.argsort(-item_similarity[item_user.index.get_loc(movie_id)])[:k]\n",
    "    \n",
    "    # 计算预测评分\n",
    "    user_ratings = item_user.iloc[similar_items][user_id]\n",
    "    similarity_weights = item_similarity[item_user.index.get_loc(movie_id)][similar_items]\n",
    "    pred_rating = np.dot(similarity_weights, user_ratings) / np.sum(np.abs(similarity_weights))\n",
    "    return pred_rating\n"
   ]
  },
  {
   "cell_type": "markdown",
   "metadata": {},
   "source": [
    "## 四、RMSE评估与结果比较"
   ]
  },
  {
   "cell_type": "code",
   "execution_count": null,
   "metadata": {},
   "outputs": [],
   "source": [
    "# 预测User-CF结果\n",
    "user_cf_preds = test_data.apply(lambda row: user_cf_predict(user_item_train, row['userld'], row['movield']), axis=1)\n",
    "user_cf_rmse = np.sqrt(mean_squared_error(test_data['rating'], user_cf_preds))\n",
    "\n",
    "# 预测Item-CF结果\n",
    "item_cf_preds = test_data.apply(lambda row: item_cf_predict(user_item_train, row['userld'], row['movield']), axis=1)\n",
    "item_cf_rmse = np.sqrt(mean_squared_error(test_data['rating'], item_cf_preds))\n",
    "\n",
    "print(f'User-CF RMSE: {user_cf_rmse:.4f}')\n",
    "print(f'Item-CF RMSE: {item_cf_rmse:.4f}')\n"
   ]
  }
 ],
 "metadata": {
  "kernelspec": {
   "display_name": "Python 3",
   "language": "python",
   "name": "python3"
  },
  "language_info": {
   "codemirror_mode": {
    "name": "ipython",
    "version": 3
   },
   "file_extension": ".py",
   "mimetype": "text/x-python",
   "name": "python",
   "nbconvert_exporter": "python",
   "pygments_lexer": "ipython3",
   "version": "3.8.8"
  }
 },
 "nbformat": 4,
 "nbformat_minor": 4
}
